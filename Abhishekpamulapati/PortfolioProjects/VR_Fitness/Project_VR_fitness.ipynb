{
  "nbformat": 4,
  "nbformat_minor": 0,
  "metadata": {
    "colab": {
      "provenance": [],
      "authorship_tag": "ABX9TyOPE6vogdazgClZd51DW/pQ",
      "include_colab_link": true
    },
    "kernelspec": {
      "name": "python3",
      "display_name": "Python 3"
    },
    "language_info": {
      "name": "python"
    }
  },
  "cells": [
    {
      "cell_type": "markdown",
      "metadata": {
        "id": "view-in-github",
        "colab_type": "text"
      },
      "source": [
        "<a href=\"https://colab.research.google.com/github/Abhishekpamulapati/PortfolioProjects/blob/main/Abhishekpamulapati/PortfolioProjects/VR_Fitness/Project_VR_fitness.ipynb\" target=\"_parent\"><img src=\"https://colab.research.google.com/assets/colab-badge.svg\" alt=\"Open In Colab\"/></a>"
      ]
    },
    {
      "cell_type": "code",
      "execution_count": null,
      "metadata": {
        "id": "bYlfXePI7hOv"
      },
      "outputs": [],
      "source": []
    },
    {
      "cell_type": "markdown",
      "source": [
        "# Task 1\n",
        "\n",
        "ActiVR's sales team wants to use the information it has about users for targeted marketing.\n",
        "\n",
        "However, they suspect that the data may need to be cleaned before.\n",
        "\n",
        "The expected data format and types for the `users` table according to the sales team's requirements is shown in the table below.\n",
        "\n",
        "Write an SQL query that returns the `users` table with the specified format. Ensure that your query does not modify the `users` table.\n",
        "\n",
        "\n",
        "| Column Name     | Description                                                  |\n",
        "|-----------------|--------------------------------------------------------------|\n",
        "| user_id         | Unique integer (assigned by the database, cannot be altered). Missing values are not possible due to the database structure. |\n",
        "| age             | Integer representing the age of the customer. Missing values should be replaced with the average age.                  |\n",
        "| registration_date | Date when the user made an account first (YYYY-MM-DD). Missing values should be replaced with January 1st, 2024.   |\n",
        "| email | Email address of the user. Missing values should be replaced with Unknown.  |\n",
        "| workout_frequency        | Workout frequency as a lowercase string, one of: _minimal_, _flexible_, _regular_, _maximal_. Missing values must be replaced with _flexible_. |\n",
        "\n"
      ],
      "metadata": {
        "id": "-aI4fgrU7pmc"
      }
    },
    {
      "cell_type": "code",
      "source": [
        "SELECT\n",
        "    user_id,\n",
        "    COALESCE(age, AVG(age) OVER()) AS age,\n",
        "    COALESCE(DATE(registration_date), '2024-01-01'::DATE) AS registration_date,\n",
        "    COALESCE(email::VARCHAR, 'Unknown') AS email,\n",
        "    COALESCE(NULLIF(LOWER(TRIM(workout_frequency)),''), 'flexible') AS workout_frequency\n",
        "FROM users"
      ],
      "metadata": {
        "id": "DB88ilNX7wjJ"
      },
      "execution_count": null,
      "outputs": []
    },
    {
      "cell_type": "markdown",
      "source": [
        "# Task 2\n",
        "It seems like there are missing values in the `events` table for the column `game_id` for all events before the year 2021.\n",
        "\n",
        "However, we know that before 2021 there were only games where the `game_type` is `running`. The `game_id` for these games can be found in the `games` table.\n",
        "\n",
        "Write a query so that the `events` table has a `game_id` for all events including those before 2021."
      ],
      "metadata": {
        "id": "y7RfFVLx70KL"
      }
    },
    {
      "cell_type": "code",
      "source": [
        "SELECT\n",
        "    event_id,\n",
        "    COALESCE(game_id,\n",
        "             CASE\n",
        "                 WHEN event_time < '2021-01-01' THEN\n",
        "                     (SELECT game_id FROM games WHERE game_type = 'running' LIMIT 1)\n",
        "             END) AS game_id,\n",
        "    device_id,\n",
        "    user_id,\n",
        "    event_time\n",
        "FROM events\n",
        "ORDER BY event_time"
      ],
      "metadata": {
        "id": "C5qGzmWn739P"
      },
      "execution_count": null,
      "outputs": []
    },
    {
      "cell_type": "markdown",
      "source": [
        "# Task 3\n",
        "\n",
        "ActiVR's sales team plans to launch a promotion for upgrades to virtual reality devices.\n",
        "\n",
        "They aim to target customers who have participated in events related to specific game types.\n",
        "\n",
        "Write a SQL query to provide the `user_id` and `event_time` for users who have participated in events related to `biking` games."
      ],
      "metadata": {
        "id": "m7M17y8x775S"
      }
    },
    {
      "cell_type": "code",
      "source": [
        "SELECT\n",
        "    e.user_id,\n",
        "    e.event_time\n",
        "FROM\n",
        "    events e\n",
        "JOIN games g ON e.game_id = g.game_id\n",
        "WHERE g.game_type = 'biking';"
      ],
      "metadata": {
        "id": "nuQxR38x7_FL"
      },
      "execution_count": null,
      "outputs": []
    },
    {
      "cell_type": "markdown",
      "source": [
        "# Task 4\n",
        "\n",
        "After running their promotion, the sales team at ActiVR wants to investigate the results.\n",
        "\n",
        "To do so, they require insights into the number of users who participated in events for each `game_type`.\n",
        "\n",
        "Write a SQL query that returns the count of unique users for each game type `game_type` and `game_id`. The user count should be shown in a column `user_count`."
      ],
      "metadata": {
        "id": "bDUbahDg8BqP"
      }
    },
    {
      "cell_type": "code",
      "source": [
        "SELECT\n",
        "    g.game_type,\n",
        "    g.game_id,\n",
        "    COUNT(DISTINCT e.user_id) AS user_count\n",
        "FROM\n",
        "    events e\n",
        "JOIN games g ON e.game_id = g.game_id\n",
        "GROUP BY\n",
        "    g.game_type,\n",
        "    g.game_id;"
      ],
      "metadata": {
        "id": "0g2PM-S28EVP"
      },
      "execution_count": null,
      "outputs": []
    }
  ]
}