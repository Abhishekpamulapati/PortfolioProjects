{
  "nbformat": 4,
  "nbformat_minor": 0,
  "metadata": {
    "colab": {
      "provenance": [],
      "authorship_tag": "ABX9TyN2YJFvyZETKtVH3Ah1YyFI",
      "include_colab_link": true
    },
    "kernelspec": {
      "name": "python3",
      "display_name": "Python 3"
    },
    "language_info": {
      "name": "python"
    }
  },
  "cells": [
    {
      "cell_type": "markdown",
      "metadata": {
        "id": "view-in-github",
        "colab_type": "text"
      },
      "source": [
        "<a href=\"https://colab.research.google.com/github/Abhishekpamulapati/PortfolioProjects/blob/main/Pyspark/Basic_Introduction_to_Pyspark.ipynb\" target=\"_parent\"><img src=\"https://colab.research.google.com/assets/colab-badge.svg\" alt=\"Open In Colab\"/></a>"
      ]
    },
    {
      "cell_type": "code",
      "execution_count": null,
      "metadata": {
        "id": "LGrjkGQsl0Ku"
      },
      "outputs": [],
      "source": [
        "# Read a csv file and set the headers\n",
        "from pyspark.sql import SparkSession\n",
        "from pyspark.sql.types import *\n",
        "\n",
        "spark= SparkSession.builder.getOrCreate()\n",
        "\n",
        "df = (spark.read\n",
        "      .options(header= True)\n",
        "      .csv(\"/home/repl/workspace/mnt/data_lake/landing/ratings.csv\"))\n",
        "\n",
        "df.show()\n",
        "\n",
        "# Define the schema\n",
        "schema = StructType([\n",
        "  StructField(\"brand\", StringType(), nullable=False),\n",
        "  StructField(\"model\", StringType(), nullable=False),\n",
        "  StructField(\"absorption_rate\", IntegerType(), nullable=True),\n",
        "  StructField(\"comfort\", IntegerType(), nullable=True)\n",
        "])\n",
        "\n",
        "better_df = (spark\n",
        "             .read\n",
        "             .options(header=\"true\")\n",
        "             # Pass the predefined schema to the Reader\n",
        "             .schema(schema)\n",
        "             .csv(\"/home/repl/workspace/mnt/data_lake/landing/ratings.csv\"))\n",
        "pprint(better_df.dtypes)"
      ]
    },
    {
      "cell_type": "code",
      "source": [
        "# Specify the option to drop invalid rows\n",
        "ratings = (spark\n",
        "           .read\n",
        "           .options(header=True, mode=\"DROPMALFORMED\")\n",
        "           .csv(\"/home/repl/workspace/mnt/data_lake/landing/ratings_with_invalid_rows.csv\"))\n",
        "ratings.show()\n",
        "\n",
        "print(\"BEFORE\")\n",
        "ratings.show()\n",
        "\n",
        "print(\"AFTER\")\n",
        "# Replace nulls with arbitrary value on column subset\n",
        "ratings = ratings.fillna(4, subset=[\"comfort\"])\n",
        "ratings.show()"
      ],
      "metadata": {
        "id": "dhKAskH5wYgS"
      },
      "execution_count": null,
      "outputs": []
    },
    {
      "cell_type": "code",
      "source": [
        "##Conditionally Replacing the values\n",
        "\n",
        "from pyspark.sql.functions import col, when\n",
        "\n",
        "# Add/relabel the column\n",
        "categorized_ratings = ratings.withColumn(\n",
        "    \"comfort\",\n",
        "    # Express the condition in terms of column operations\n",
        "    when(col(\"comfort\") > 3, \"sufficient\").otherwise(\"insufficient\"))\n",
        "\n",
        "categorized_ratings.show()"
      ],
      "metadata": {
        "id": "cp4T17z-xMsl"
      },
      "execution_count": null,
      "outputs": []
    },
    {
      "cell_type": "code",
      "source": [
        "##Selecting and Renaming columns\n",
        "\n",
        "from pyspark.sql.functions import col\n",
        "\n",
        "# Select the columns and rename the \"absorption_rate\" column\n",
        "result = ratings.select([col(\"brand\"),\n",
        "                       col(\"model\"),\n",
        "                       col(\"absorption_rate\").alias(\"absorbency\")])\n",
        "\n",
        "# Show only unique values\n",
        "result.distinct().show()\n",
        "\n"
      ],
      "metadata": {
        "id": "op9x1wwdkSiQ"
      },
      "execution_count": null,
      "outputs": []
    },
    {
      "cell_type": "code",
      "source": [
        "##Grouping and aggregating the data\n",
        "\n",
        "from pyspark.sql.functions import col, avg, stddev_samp, max as sfmax\n",
        "\n",
        "aggregated = (purchased\n",
        "              # Group rows by 'Country'\n",
        "              .groupBy(col('Country'))\n",
        "              .agg(\n",
        "                # Calculate the average salary per group and rename\n",
        "                avg('Salary').alias('average_salary'),\n",
        "                # Calculate the standard deviation per group\n",
        "                stddev_samp('Salary'),\n",
        "                # Retain the highest salary per group and rename\n",
        "              sfmax('Salary').alias('highest_salary')\n",
        "              )\n",
        "             )\n",
        "\n",
        "aggregated.show()"
      ],
      "metadata": {
        "id": "fPwYeqYRlHM5"
      },
      "execution_count": null,
      "outputs": []
    },
    {
      "cell_type": "code",
      "source": [
        "from pyspark.sql import SparkSession\n",
        "from pyspark.sql.types import *\n",
        "\n",
        "from pydiaper.data_catalog.catalog import catalog\n",
        "\n",
        "\n",
        "def main():\n",
        "    spark = SparkSession.builder.getOrCreate()\n",
        "    schema = StructType([\n",
        "        StructField(\"store\", StringType(), False),\n",
        "        StructField(\"countrycode\", StringType(), False),\n",
        "        StructField(\"brand\", StringType(), False),\n",
        "        StructField(\"model\", StringType(), True),\n",
        "        StructField(\"price\", FloatType(), False),\n",
        "        StructField(\"currency\", StringType(), True),\n",
        "        StructField(\"quantity\", IntegerType(), True),\n",
        "        StructField(\"date\", DateType(), False),\n",
        "\n",
        "    ])\n",
        "    frame = (spark.read\n",
        "             .options(header=\"true\")\n",
        "             .schema(schema)\n",
        "             .csv(catalog[\"landing/prices\"]))\n",
        "\n",
        "    # No more cleaning actions required.\n",
        "\n",
        "    (frame\n",
        "     .repartition(2)  # force 2 partitions for DataCamp, MC question\n",
        "     .write\n",
        "     .parquet(catalog[\"clean/prices\"], mode=\"overwrite\"))\n",
        "\n",
        "\n",
        "if __name__ == \"__main__\":\n",
        "    main()\n"
      ],
      "metadata": {
        "id": "QKEpdUsXosND"
      },
      "execution_count": null,
      "outputs": []
    },
    {
      "cell_type": "markdown",
      "source": [
        "Testing the pipelines in python"
      ],
      "metadata": {
        "id": "Kp4s_UNrV7fN"
      }
    },
    {
      "cell_type": "code",
      "source": [
        "##Creating in-memory pipelines fro reuability and testing dataframe pipelines\n",
        "from datetime import date\n",
        "from pyspark.sql import Row\n",
        "\n",
        "Record = Row(\"country\", \"utm_campaign\", \"airtime_in_minutes\", \"start_date\", \"end_date\")\n",
        "\n",
        "# Create a tuple of records\n",
        "data = (\n",
        "  Record(\"USA\", \"DiapersFirst\", 28, date(2017, 1, 20), date(2017, 1, 27)),\n",
        "  Record(\"Germany\", \"WindelKind\", 31, date(2017, 1, 25), None),\n",
        "  Record(\"India\", \"CloseToCloth\", 32, date(2017, 1, 25), date(2017, 2, 2))\n",
        ")\n",
        "\n",
        "# Create a DataFrame from these records\n",
        "frame = spark.createDataFrame(data)\n",
        "frame.show()"
      ],
      "metadata": {
        "id": "saAf-N-nWdr6"
      },
      "execution_count": null,
      "outputs": []
    }
  ]
}