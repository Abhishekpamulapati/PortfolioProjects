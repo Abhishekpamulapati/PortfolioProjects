{
  "nbformat": 4,
  "nbformat_minor": 0,
  "metadata": {
    "colab": {
      "provenance": [],
      "authorship_tag": "ABX9TyOaE7q7jEkUtXoV0VuVxiBb",
      "include_colab_link": true
    },
    "kernelspec": {
      "name": "python3",
      "display_name": "Python 3"
    },
    "language_info": {
      "name": "python"
    }
  },
  "cells": [
    {
      "cell_type": "markdown",
      "metadata": {
        "id": "view-in-github",
        "colab_type": "text"
      },
      "source": [
        "<a href=\"https://colab.research.google.com/github/Abhishekpamulapati/PortfolioProjects/blob/main/Pyspark/Mini_Transformation_Project.ipynb\" target=\"_parent\"><img src=\"https://colab.research.google.com/assets/colab-badge.svg\" alt=\"Open In Colab\"/></a>"
      ]
    },
    {
      "cell_type": "code",
      "execution_count": null,
      "metadata": {
        "id": "BQRqe0iSZ1Vv"
      },
      "outputs": [],
      "source": [
        "from pyspark.sql.functions import *"
      ]
    },
    {
      "cell_type": "markdown",
      "source": [
        "Reading from open datasets on databricks"
      ],
      "metadata": {
        "id": "JBNBKjQsaNOE"
      }
    },
    {
      "cell_type": "code",
      "source": [
        "fire_df = spark.read.format(\"csv\")\\\n",
        "            .option(\"header\", \"true\")\\\n",
        "            .option(\"inferSchema\", \"true\")\\\n",
        "            .load(\"dbfs:/databricks-datasets/learning-spark-v2/sf-fire/sf-fire-calls.csv\")\n",
        "display(fire_df)"
      ],
      "metadata": {
        "id": "8Ghrw8draKnI"
      },
      "execution_count": null,
      "outputs": []
    },
    {
      "cell_type": "code",
      "source": [
        "fire_df.printSchema()"
      ],
      "metadata": {
        "id": "oZO_rTxjav_m"
      },
      "execution_count": null,
      "outputs": []
    },
    {
      "cell_type": "code",
      "source": [
        "fire_df=renamed_fire_df\\\n",
        "    .withColumn(\"CallDate\",to_date(\"CallDate\",'MM/dd/yyyy'))\\\n",
        "    .withColumn(\"WatchDate\",to_date(\"WatchDate\",'MM/dd/yyyy'))\\\n",
        "    .withColumn(\"AvailableDtTm\",to_timestamp(\"AvailableDtTm\",\"MM/dd/yyyy HH:mm:ss a\"))\\\n",
        "    .withColumn(\"Delay\",round(\"Delay\",2))"
      ],
      "metadata": {
        "id": "KPmHWjXQa9Ey"
      },
      "execution_count": null,
      "outputs": []
    },
    {
      "cell_type": "code",
      "source": [
        "display(renamed_fire_df)\n",
        "renamed_fire_df.printSchema()"
      ],
      "metadata": {
        "id": "y9Ofad1baqao"
      },
      "execution_count": null,
      "outputs": []
    },
    {
      "cell_type": "code",
      "source": [
        "fire_df.cache()"
      ],
      "metadata": {
        "id": "S7vSqX3abFIs"
      },
      "execution_count": null,
      "outputs": []
    },
    {
      "cell_type": "markdown",
      "source": [
        "Q1. How many distinct types of calls were made to the Fire department?\n",
        "SELECT COUNT(DISTINCT callType) AS distinct_callTypes FROM demo_db.fire_service_tbl WHERE CallType IS NOT NULL"
      ],
      "metadata": {
        "id": "ywGRo6z3bI3S"
      }
    },
    {
      "cell_type": "code",
      "source": [
        "fire_df.createOrReplaceTempView(\"fire_service_calls_tempview\")\n",
        "ql_sql_df = spark.sql(\"\"\"\n",
        "                      SELECT COUNT(DISTINCT callType) AS distinct_callTypes FROM fire_service_calls_tempview WHERE CallType IS NOT NULL\n",
        "                      \"\"\")\n",
        "display(ql_sql_df)"
      ],
      "metadata": {
        "id": "D065LMRrbGLg"
      },
      "execution_count": null,
      "outputs": []
    },
    {
      "cell_type": "code",
      "source": [
        "ql_df = fire_df.where(\"CallType IS NOT NULL\")\\\n",
        "            .select(\"CallType\")\\\n",
        "            .distinct()\n",
        "print(ql_df.count())"
      ],
      "metadata": {
        "id": "6YMd7BTvbMAb"
      },
      "execution_count": null,
      "outputs": []
    },
    {
      "cell_type": "markdown",
      "source": [
        "Q2. What were distinct types of calls made to the Fire Department?\n",
        "SELECT DISTINCT callType AS distinct_callTypes FROM demo_db.fire_service_tbl WHERE CallType IS NOT NULL"
      ],
      "metadata": {
        "id": "mkM83uhabWUr"
      }
    },
    {
      "cell_type": "code",
      "source": [
        "ql_df2=fire_df.where(\"CallType IS NOT NULL\")\\\n",
        "            .select(expr(\"CallType as distinct_callTypes\"))\\\n",
        "            .distinct()\n",
        "display(ql_df2)"
      ],
      "metadata": {
        "id": "6V2qrqD8bVoO"
      },
      "execution_count": null,
      "outputs": []
    },
    {
      "cell_type": "markdown",
      "source": [
        "Q3. Find out all response for delayed times greater than 5 mins?\n",
        "SELECT callNumber, Delay FROM demo_db.fire_service_tbl WHERE Delay > 5"
      ],
      "metadata": {
        "id": "wZ2905hQbbpO"
      }
    },
    {
      "cell_type": "code",
      "source": [
        "ql_df3 = fire_df.where(\"Delay > 5\")\\\n",
        "                .select(\"callNumber\",\"Delay\")\n",
        "display(ql_df3)"
      ],
      "metadata": {
        "id": "m3uifdZbbfJA"
      },
      "execution_count": null,
      "outputs": []
    },
    {
      "cell_type": "markdown",
      "source": [
        "Q4. What were the most common call types?\n",
        "SELECT callType, count(*) as count FROM demo_db.fire_service_tbl WHERE CallType is NOT NULL GROUP BY callType ORDER BY count DESC"
      ],
      "metadata": {
        "id": "g8aLXXPzbh43"
      }
    },
    {
      "cell_type": "code",
      "source": [
        "ql_df4=fire_df.where(\"CallType IS NOT NULL\")\\\n",
        "    .select(\"callType\")\\\n",
        "    .groupBy(\"callType\")\\\n",
        "    .count()\\\n",
        "    .orderBy(\"count\",ascending=False)\n",
        "ql_df4.show()"
      ],
      "metadata": {
        "id": "8fOg0IHKbk4a"
      },
      "execution_count": null,
      "outputs": []
    },
    {
      "cell_type": "markdown",
      "source": [
        "Q5. What zip codes accounted for most common calls?\n",
        "SELECT callType,zipCode, count(*) as count FROM demo_db.fire_service_tbl WHERE CallType is NOT NULL GROUP BY callType, Zipcode ORDER BY count DESC"
      ],
      "metadata": {
        "id": "TzoPJmzLbnZ8"
      }
    },
    {
      "cell_type": "code",
      "source": [
        "ql_df5= fire_df.where(\"CallType IS NOT NULL\")\\\n",
        "     .select(\"callType\",\"zipCode\")\\\n",
        "     .groupBy(\"callType\",\"zipCode\")\\\n",
        "     .count()\\\n",
        "    .orderBy(\"count\",ascending=False)\n",
        "display(ql_df5)"
      ],
      "metadata": {
        "id": "FxyeHmTfbqe6"
      },
      "execution_count": null,
      "outputs": []
    },
    {
      "cell_type": "markdown",
      "source": [
        "Q6. What SF neighborhoods are in the zip codes 94102, 94103?\n",
        "SELECT zipCode, neighborhood FROM demo_db.fire_service_tbl WHERE Zipcode in ('94102','94103')"
      ],
      "metadata": {
        "id": "Efjk3sTpbshG"
      }
    },
    {
      "cell_type": "code",
      "source": [
        "ql_df6=fire_df.where(\n",
        "    (fire_df.ZipCode=='94102')&(fire_df.ZipCode=='94103'))\\\n",
        "        .select(\"ZipCode\",\"Neighborhood\")\n",
        "display(ql_df6)"
      ],
      "metadata": {
        "id": "mSVnEeAAbvYy"
      },
      "execution_count": null,
      "outputs": []
    },
    {
      "cell_type": "markdown",
      "source": [
        "Q7. What was the sum of all call alarms, average, min, and max of the call response times?\n",
        "SELECT sum(NumAlarms), avg(Delay),min(delay),max(delay) FROM demo_db.fire_service_tbl"
      ],
      "metadata": {
        "id": "ILotC-XXbyvF"
      }
    },
    {
      "cell_type": "code",
      "source": [
        "ql_df7=fire_df.agg(sum(\"NumAlarms\"),avg(\"Delay\"),min(\"Delay\"),max(\"Delay\"))\n",
        "\n",
        "display(ql_df7)\n"
      ],
      "metadata": {
        "id": "QCV6LZvib1-d"
      },
      "execution_count": null,
      "outputs": []
    },
    {
      "cell_type": "markdown",
      "source": [
        "Q8. How many distinct years of data is in the dataset?\n",
        "SELECT DISTINCT year(to_date(CallDate,\"mm/dd/yyyy\")) AS year_num FROM demo_db.fire_service_tbl ORDER BY year_num"
      ],
      "metadata": {
        "id": "RXBqy_yqb38h"
      }
    },
    {
      "cell_type": "code",
      "source": [
        "ql_df8= fire_df.select(year(\"CallDate\").alias(\" distinct_year\"))\\\n",
        "                .distinct()\\\n",
        "                .orderBy(\"CallDate\")\n",
        "display(ql_df8)"
      ],
      "metadata": {
        "id": "Pbh943tvb6oB"
      },
      "execution_count": null,
      "outputs": []
    },
    {
      "cell_type": "markdown",
      "source": [
        "Q9. What week of the year in 2018 had the most fire calls?\n",
        "SELECT DISTINCT weekofyear((to_date(CallDate,\"mm/dd/yyyy\"))) weekyear,count(*) AS count FROM demo_db.fire_service_tbl WHERE year(to_date(CallDate,\"mm/dd/yyyy\"))== 2018 GROUP BY weekyear ORDER BY count DESC"
      ],
      "metadata": {
        "id": "HUHZSTV1b8dt"
      }
    },
    {
      "cell_type": "code",
      "source": [
        "ql_df9 = fire_df.select(weekofyear(\"CallDate\").alias(\"weekyear\")) \\\n",
        "                .where(year(\"CallDate\") == 2018) \\\n",
        "                .groupBy(\"weekyear\") \\\n",
        "                .count() \\\n",
        "                .distinct() \\\n",
        "                .orderBy(\"weekyear\")\n",
        "\n",
        "display(ql_df9)"
      ],
      "metadata": {
        "id": "a64m2Cmhb_ft"
      },
      "execution_count": null,
      "outputs": []
    },
    {
      "cell_type": "markdown",
      "source": [
        "Q10. What neighborhoods in SF had the worst response time in 2018?\n",
        "SELECT neighborhood,delay FROM demo_db.fire_service_tbl WHERE year(to_date(CallDate,\"mm/dd/yyyy\"))==2018 ORDER BY Delay DESC"
      ],
      "metadata": {
        "id": "I7pRUrUEcCH5"
      }
    },
    {
      "cell_type": "code",
      "source": [
        "fire_df.where(\"year(CallDate)==2018\")\\\n",
        "        .select(\"neighborhood\",\"Delay\")\\\n",
        "        .orderBy(\"Delay\",ascending=False)\\\n",
        "        .show()"
      ],
      "metadata": {
        "id": "cejQxUbacEzh"
      },
      "execution_count": null,
      "outputs": []
    }
  ]
}