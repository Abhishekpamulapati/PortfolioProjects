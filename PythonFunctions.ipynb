{
  "nbformat": 4,
  "nbformat_minor": 0,
  "metadata": {
    "colab": {
      "provenance": [],
      "authorship_tag": "ABX9TyOVbskjj6oaIVVwPFzNrF07",
      "include_colab_link": true
    },
    "kernelspec": {
      "name": "python3",
      "display_name": "Python 3"
    },
    "language_info": {
      "name": "python"
    }
  },
  "cells": [
    {
      "cell_type": "markdown",
      "metadata": {
        "id": "view-in-github",
        "colab_type": "text"
      },
      "source": [
        "<a href=\"https://colab.research.google.com/github/Abhishekpamulapati/PortfolioProjects/blob/main/PythonFunctions.ipynb\" target=\"_parent\"><img src=\"https://colab.research.google.com/assets/colab-badge.svg\" alt=\"Open In Colab\"/></a>"
      ]
    },
    {
      "cell_type": "markdown",
      "source": [
        "Custom functions with DocStrings- Examples"
      ],
      "metadata": {
        "id": "weM68RwtURHO"
      }
    },
    {
      "cell_type": "code",
      "execution_count": 1,
      "metadata": {
        "colab": {
          "base_uri": "https://localhost:8080/"
        },
        "id": "G60xXxU8TivC",
        "outputId": "fcc10218-d2f7-40c3-bcec-5874d98c1d87"
      },
      "outputs": [
        {
          "output_type": "stream",
          "name": "stdout",
          "text": [
            "Help on function convert_data_structure in module __main__:\n",
            "\n",
            "convert_data_structure(data, data_type='list')\n",
            "    Convert a data structure to a list, tuple, or set.\n",
            "    \n",
            "    Args:\n",
            "          data (list, tuple, or set): A data structure to be converted.\n",
            "      data_type (str): String representing the type of structure to convert data to.\n",
            "      \n",
            "    Returns:\n",
            "          data (list, tuple, or set): Converted data structure.\n",
            "\n",
            "None\n"
          ]
        }
      ],
      "source": [
        "# Create the convert_data_type function\n",
        "def convert_data_structure(data, data_type=\"list\"):\n",
        "  # Add a multi-line docstring\n",
        "  \"\"\"\n",
        "  Convert a data structure to a list, tuple, or set.\n",
        "\n",
        "  Args:\n",
        "  \tdata (list, tuple, or set): A data structure to be converted.\n",
        "    data_type (str): String representing the type of structure to convert data to.\n",
        "\n",
        "  Returns:\n",
        "  \tdata (list, tuple, or set): Converted data structure.\n",
        "  \"\"\"\n",
        "  if data_type == \"tuple\":\n",
        "    data = tuple(data)\n",
        "  elif data_type == \"set\":\n",
        "    data = set(data)\n",
        "  else:\n",
        "    data = list(data)\n",
        "  return data\n",
        "\n",
        "print(help(convert_data_structure))"
      ]
    },
    {
      "cell_type": "markdown",
      "source": [
        "Custom Average function- Arbitary arguments\n"
      ],
      "metadata": {
        "id": "nJ-XFfnSUfVy"
      }
    },
    {
      "cell_type": "code",
      "source": [
        "def average(values):\n",
        "  #calculate average of the values\n",
        "  average_value=sum(values)/len(values)\n",
        "  #Return rounded average value\n",
        "  return round(average_value,2)\n",
        ""
      ],
      "metadata": {
        "id": "OZUyOVrfUwJz"
      },
      "execution_count": 3,
      "outputs": []
    },
    {
      "cell_type": "code",
      "source": [
        "# Allow any number of positional,non-keyword arguments\n",
        "def average(*values):\n",
        "  #Function code remains the same\n",
        "  #calculate average of the values\n",
        "  average_value=sum(values)/len(values)\n",
        "  #Return rounded average value\n",
        "  return round(average_value,2)\n",
        "print(average(15,29,4,13,11,8))\n",
        "average(*[15,29],*[4,13],*[11,8])\n",
        "\n",
        "# *: combines all arguments into single iterable(tuple)"
      ],
      "metadata": {
        "colab": {
          "base_uri": "https://localhost:8080/"
        },
        "id": "n4FXNPxPU1KW",
        "outputId": "1a07aa4a-cdbf-4fd2-fcc4-2e604a3f48d0"
      },
      "execution_count": 8,
      "outputs": [
        {
          "output_type": "stream",
          "name": "stdout",
          "text": [
            "13.33\n"
          ]
        },
        {
          "output_type": "execute_result",
          "data": {
            "text/plain": [
              "13.33"
            ]
          },
          "metadata": {},
          "execution_count": 8
        }
      ]
    },
    {
      "cell_type": "code",
      "source": [
        "#Arbitary keyword argument **kwargs\n",
        "def average(**kwargs):\n",
        "  #Function code remains the same\n",
        "  #calculate average of the values\n",
        "  average_value=sum(kwargs.values())/len(kwargs.values())\n",
        "  #Return rounded average value\n",
        "  return round(average_value,2)\n",
        "average(a=15,b=29,c=4,d=13,e=11,f=8)\n",
        "\n",
        "\n"
      ],
      "metadata": {
        "colab": {
          "base_uri": "https://localhost:8080/"
        },
        "id": "QjKkMIeQaOzN",
        "outputId": "22e49512-826d-4979-a924-101d1eeb064b"
      },
      "execution_count": 14,
      "outputs": [
        {
          "output_type": "execute_result",
          "data": {
            "text/plain": [
              "13.33"
            ]
          },
          "metadata": {},
          "execution_count": 14
        }
      ]
    },
    {
      "cell_type": "code",
      "source": [
        "##Method 2- calling avg. with one kwarg. Each key-value pair in dictionary is mapped to a keyword argument and value\n",
        "average(**{\"a\":15,\"b\":29,\"c\":4,\"d\":13,\"e\":11,\"f\":8})"
      ],
      "metadata": {
        "colab": {
          "base_uri": "https://localhost:8080/"
        },
        "id": "ETAATy14bj7R",
        "outputId": "5044b7b1-2582-4243-c246-05446e2d4585"
      },
      "execution_count": 13,
      "outputs": [
        {
          "output_type": "execute_result",
          "data": {
            "text/plain": [
              "13.33"
            ]
          },
          "metadata": {},
          "execution_count": 13
        }
      ]
    },
    {
      "cell_type": "code",
      "source": [
        "#Method 3- calling average with 3 kwargs\n",
        "average(**{\"a\":15,\"b\":29},**{\"c\":4,\"d\":13},**{\"e\":11,\"f\":8})"
      ],
      "metadata": {
        "colab": {
          "base_uri": "https://localhost:8080/"
        },
        "id": "5g8P0hBbc3cA",
        "outputId": "a764d3ba-1846-4901-808c-e09c5eaf814e"
      },
      "execution_count": 15,
      "outputs": [
        {
          "output_type": "execute_result",
          "data": {
            "text/plain": [
              "13.33"
            ]
          },
          "metadata": {},
          "execution_count": 15
        }
      ]
    },
    {
      "cell_type": "code",
      "source": [
        "##Example:\n",
        "\n",
        "# Define a function called concat\n",
        "def concat(*args):\n",
        "\n",
        "  # Create an empty string\n",
        "  result = \"\"\n",
        "\n",
        "  # Iterate over the Python args tuple\n",
        "  for arg in args:\n",
        "    result += \" \" + arg\n",
        "  return result\n",
        "\n",
        "# Call the function\n",
        "print(concat(\"Python\", \"is\", \"great!\"))"
      ],
      "metadata": {
        "colab": {
          "base_uri": "https://localhost:8080/"
        },
        "id": "aTRwWvTTchs1",
        "outputId": "6c624260-dea4-4626-a793-821ebb5fdf3c"
      },
      "execution_count": 17,
      "outputs": [
        {
          "output_type": "stream",
          "name": "stdout",
          "text": [
            " Python is great!\n"
          ]
        }
      ]
    },
    {
      "cell_type": "code",
      "source": [
        "##Example-2 Kwargs\n",
        "# Define a function called concat\n",
        "def concat(**kwargs):\n",
        "\n",
        "  # Create an empty string\n",
        "  result = \"\"\n",
        "\n",
        "  # Iterate over the Python kwargs\n",
        "  for kwarg in kwargs.values():\n",
        "    result += \" \" + kwarg\n",
        "  return result\n",
        "\n",
        "# Call the function\n",
        "print(concat(start=\"Python\", middle=\"is\", end=\"great!\"))"
      ],
      "metadata": {
        "colab": {
          "base_uri": "https://localhost:8080/"
        },
        "id": "lXBlEezoeYhQ",
        "outputId": "5f5cd463-e648-449e-cffd-488df8c6d06d"
      },
      "execution_count": 19,
      "outputs": [
        {
          "output_type": "stream",
          "name": "stdout",
          "text": [
            " Python is great!\n"
          ]
        }
      ]
    },
    {
      "cell_type": "code",
      "source": [],
      "metadata": {
        "id": "h70J-SKcfqt7"
      },
      "execution_count": null,
      "outputs": []
    }
  ]
}